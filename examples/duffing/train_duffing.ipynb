{
 "cells": [
  {
   "cell_type": "code",
   "execution_count": 1,
   "metadata": {},
   "outputs": [],
   "source": [
    "import sys\n",
    "sys.path.append(\"../../src\")\n",
    "import os\n",
    "import datetime\n",
    "import pandas as pd\n",
    "import numpy as np\n",
    "from example_duffing import get_duffing_data\n",
    "from sindy_utils import library_size\n",
    "from training import train_network\n",
    "import tensorflow as tf"
   ]
  },
  {
   "cell_type": "markdown",
   "metadata": {},
   "source": [
    "# Generate data"
   ]
  },
  {
   "cell_type": "code",
   "execution_count": 2,
   "metadata": {
    "collapsed": true
   },
   "outputs": [],
   "source": [
    "# generate training, validation, testing data\n",
    "noise_strength = 1e-6\n",
    "training_data = get_duffing_data(1024, noise_strength=noise_strength)\n",
    "validation_data = get_duffing_data(20, noise_strength=noise_strength)"
   ]
  },
  {
   "cell_type": "markdown",
   "metadata": {},
   "source": [
    "# Set up model and training parameters"
   ]
  },
  {
   "cell_type": "code",
   "execution_count": 3,
   "metadata": {
    "collapsed": true
   },
   "outputs": [],
   "source": [
    "params = {}\n",
    "\n",
    "params['input_dim'] = 128\n",
    "params['latent_dim'] = 2\n",
    "params['model_order'] = 1\n",
    "params['poly_order'] = 3\n",
    "params['include_sine'] = False\n",
    "params['library_dim'] = library_size(params['latent_dim'], params['poly_order'], params['include_sine'], True)\n",
    "\n",
    "# sequential thresholding parameters\n",
    "params['sequential_thresholding'] = True\n",
    "params['coefficient_threshold'] = 0.1\n",
    "params['threshold_frequency'] = 500\n",
    "params['coefficient_mask'] = np.ones((params['library_dim'], params['latent_dim']))\n",
    "params['coefficient_initialization'] = 'constant'\n",
    "\n",
    "# loss function weighting\n",
    "params['loss_weight_decoder'] = 1.0\n",
    "params['loss_weight_sindy_z'] = 0.0\n",
    "params['loss_weight_sindy_x'] = 1e-4\n",
    "params['loss_weight_sindy_regularization'] = 1e-5\n",
    "\n",
    "params['activation'] = 'sigmoid'\n",
    "params['widths'] = [64,32]\n",
    "\n",
    "# training parameters\n",
    "params['epoch_size'] = training_data['x'].shape[0]\n",
    "params['batch_size'] = 1024\n",
    "params['learning_rate'] = 1e-3\n",
    "\n",
    "params['data_path'] = os.getcwd() + '/'\n",
    "params['print_progress'] = True\n",
    "params['print_frequency'] = 100\n",
    "\n",
    "# training time cutoffs\n",
    "params['max_epochs'] = 5001\n",
    "params['refinement_epochs'] = 1001"
   ]
  },
  {
   "cell_type": "markdown",
   "metadata": {},
   "source": [
    "# Run training experiments"
   ]
  },
  {
   "cell_type": "code",
   "execution_count": 4,
   "metadata": {},
   "outputs": [
    {
     "name": "stdout",
     "output_type": "stream",
     "text": [
      "EXPERIMENT 0\n",
      "TRAINING\n"
     ]
    },
    {
     "name": "stderr",
     "output_type": "stream",
     "text": [
      "2024-05-20 15:46:07.583194: I tensorflow/compiler/mlir/mlir_graph_optimization_pass.cc:388] MLIR V1 optimization pass is not enabled\n"
     ]
    },
    {
     "name": "stdout",
     "output_type": "stream",
     "text": [
      "Epoch 0\n",
      "   training loss 272308.78125, (272307.9, 120192.53, 8614.258, 0.799702)\n",
      "   validation loss 641707.375, (641706.3, 83981.086, 10469.697, 0.799702)\n",
      "decoder loss ratio: 0.999323, decoder SINDy loss  ratio: 1.000342\n",
      "Epoch 100\n",
      "   training loss 242999.875, (242998.98, 31302.05, 8895.4795, 0.17626747)\n",
      "   validation loss 607721.125, (607720.06, 121704.84, 10843.4795, 0.17626747)\n",
      "decoder loss ratio: 0.946397, decoder SINDy loss  ratio: 1.036055\n",
      "Epoch 200\n",
      "   training loss 231119.734375, (231118.86, 6385.296, 8678.994, 0.15766224)\n",
      "   validation loss 590734.4375, (590733.4, 6234.528, 10487.068, 0.15766224)\n",
      "decoder loss ratio: 0.919944, decoder SINDy loss  ratio: 1.002001\n",
      "Epoch 300\n",
      "   training loss 272786.8125, (272785.94, 23728.791, 8621.935, 0.14583676)\n",
      "   validation loss 642318.625, (642317.56, 11880.025, 10490.419, 0.14583676)\n",
      "decoder loss ratio: 1.000275, decoder SINDy loss  ratio: 1.002322\n",
      "Epoch 400\n",
      "   training loss 232727.5, (232726.64, 4136.259, 8631.346, 0.124006465)\n",
      "   validation loss 586712.4375, (586711.4, 2834.8335, 10478.729, 0.124006465)\n",
      "decoder loss ratio: 0.913680, decoder SINDy loss  ratio: 1.001205\n",
      "Epoch 500\n",
      "   training loss 222265.890625, (222265.03, 5187.5454, 8616.345, 0.1201752)\n",
      "   validation loss 577118.8125, (577117.75, 2624.7588, 10466.518, 0.1201752)\n",
      "decoder loss ratio: 0.898740, decoder SINDy loss  ratio: 1.000038\n",
      "THRESHOLDING: 9 active coefficients\n",
      "Epoch 600\n",
      "   training loss 231269.3125, (231268.45, 1416.8578, 8638.626, 0.04743185)\n",
      "   validation loss 583220.1875, (583219.06, 5602.105, 11169.184, 0.04743185)\n",
      "decoder loss ratio: 0.908242, decoder SINDy loss  ratio: 1.067175\n",
      "Epoch 700\n",
      "   training loss 213138.625, (213137.77, 3425.6873, 8619.879, 0.03690364)\n",
      "   validation loss 564797.75, (564796.7, 1810.7625, 10467.822, 0.03690364)\n",
      "decoder loss ratio: 0.879553, decoder SINDy loss  ratio: 1.000163\n",
      "Epoch 800\n",
      "   training loss 263226.84375, (263225.97, 18517.291, 8616.183, 0.027412469)\n",
      "   validation loss 614884.0, (614882.94, 25805.332, 10467.328, 0.027412469)\n",
      "decoder loss ratio: 0.957552, decoder SINDy loss  ratio: 1.000115\n",
      "Epoch 900\n",
      "   training loss 214357.484375, (214356.62, 69384.266, 8619.222, 0.02681901)\n",
      "   validation loss 558432.6875, (558431.6, 23340.57, 10469.338, 0.02681901)\n",
      "decoder loss ratio: 0.869640, decoder SINDy loss  ratio: 1.000307\n",
      "Epoch 1000\n",
      "   training loss 177979.84375, (177978.98, 14657.817, 8617.478, 0.020849662)\n",
      "   validation loss 513275.5, (513274.47, 18530.656, 10466.708, 0.020849662)\n",
      "decoder loss ratio: 0.799318, decoder SINDy loss  ratio: 1.000056\n",
      "THRESHOLDING: 1 active coefficients\n",
      "Epoch 1100\n",
      "   training loss 220135.59375, (220134.73, 4737.2256, 8616.1045, 0.0050608306)\n",
      "   validation loss 566971.6875, (566970.6, 3676.7192, 10466.121, 0.0050608306)\n",
      "decoder loss ratio: 0.882938, decoder SINDy loss  ratio: 1.000000\n",
      "Epoch 1200\n",
      "   training loss 231826.015625, (231825.16, 5258.0586, 8616.111, 0.00012415243)\n",
      "   validation loss 566400.0625, (566399.0, 4922.8574, 10466.124, 0.00012415243)\n",
      "decoder loss ratio: 0.882048, decoder SINDy loss  ratio: 1.000000\n",
      "Epoch 1300\n",
      "   training loss 196130.8125, (196129.95, 11367.961, 8616.868, 0.0004120174)\n",
      "   validation loss 549082.6875, (549081.6, 5269.9414, 10466.293, 0.0004120174)\n",
      "decoder loss ratio: 0.855080, decoder SINDy loss  ratio: 1.000016\n",
      "Epoch 1400\n",
      "   training loss 221165.765625, (221164.9, 12641.441, 8616.247, 0.00039049803)\n",
      "   validation loss 532769.75, (532768.7, 106260.48, 10466.121, 0.00039049803)\n",
      "decoder loss ratio: 0.829676, decoder SINDy loss  ratio: 1.000000\n",
      "Epoch 1500\n",
      "   training loss 205234.015625, (205233.16, 24313.965, 8616.244, 0.00043613737)\n",
      "   validation loss 557945.0625, (557944.0, 3586.4468, 10466.058, 0.00043613737)\n",
      "decoder loss ratio: 0.868881, decoder SINDy loss  ratio: 0.999994\n",
      "THRESHOLDING: 0 active coefficients\n",
      "Epoch 1600\n",
      "   training loss 189738.546875, (189737.69, 4128947.0, 8616.108, 0.000102236445)\n",
      "   validation loss 542385.6875, (542384.6, 21747.863, 10466.12, 0.000102236445)\n",
      "decoder loss ratio: 0.844651, decoder SINDy loss  ratio: 1.000000\n",
      "Epoch 1700\n",
      "   training loss 231893.328125, (231892.47, 2700.1602, 8616.108, 0.00011931042)\n",
      "   validation loss 558710.125, (558709.06, 6154.43, 10466.12, 0.00011931042)\n",
      "decoder loss ratio: 0.870073, decoder SINDy loss  ratio: 1.000000\n",
      "Epoch 1800\n",
      "   training loss 239524.265625, (239523.4, 7908.5947, 8616.108, 0.00013605863)\n",
      "   validation loss 620245.875, (620244.8, 208966.05, 10466.12, 0.00013605863)\n",
      "decoder loss ratio: 0.965902, decoder SINDy loss  ratio: 1.000000\n",
      "Epoch 1900\n",
      "   training loss 258255.125, (258254.27, 13482.814, 8616.108, 9.225856e-05)\n",
      "   validation loss 623757.375, (623756.3, 80732.9, 10466.12, 9.225856e-05)\n",
      "decoder loss ratio: 0.971370, decoder SINDy loss  ratio: 1.000000\n",
      "Epoch 2000\n",
      "   training loss 218678.453125, (218677.6, 211264.69, 8616.108, 0.00011152883)\n",
      "   validation loss 538219.6875, (538218.6, 464335.06, 10466.12, 0.00011152883)\n",
      "decoder loss ratio: 0.838163, decoder SINDy loss  ratio: 1.000000\n",
      "THRESHOLDING: 0 active coefficients\n",
      "Epoch 2100\n",
      "   training loss 180634.515625, (180633.66, 21836.95, 8616.108, 0.00011163254)\n",
      "   validation loss 516103.90625, (516102.88, 17596.973, 10466.12, 0.00011163254)\n",
      "decoder loss ratio: 0.803722, decoder SINDy loss  ratio: 1.000000\n",
      "Epoch 2200\n",
      "   training loss 234835.875, (234835.02, 24304.617, 8616.108, 0.00010454473)\n",
      "   validation loss 555305.75, (555304.7, 37287.676, 10466.12, 0.00010454473)\n",
      "decoder loss ratio: 0.864771, decoder SINDy loss  ratio: 1.000000\n",
      "Epoch 2300\n",
      "   training loss 236842.8125, (236841.95, 4326.772, 8616.108, 0.00010558074)\n",
      "   validation loss 568786.75, (568785.7, 8553.03, 10466.12, 0.00010558074)\n",
      "decoder loss ratio: 0.885765, decoder SINDy loss  ratio: 1.000000\n",
      "Epoch 2400\n",
      "   training loss 215454.078125, (215453.22, 35524.13, 8616.108, 0.00011572875)\n",
      "   validation loss 538535.5, (538534.44, 108572.94, 10466.12, 0.00011572875)\n",
      "decoder loss ratio: 0.838655, decoder SINDy loss  ratio: 1.000000\n",
      "Epoch 2500\n",
      "   training loss 185481.9375, (185481.08, 20996.385, 8616.108, 0.00010248085)\n",
      "   validation loss 506590.71875, (506589.7, 47154.66, 10466.12, 0.00010248085)\n",
      "decoder loss ratio: 0.788908, decoder SINDy loss  ratio: 1.000000\n",
      "THRESHOLDING: 0 active coefficients\n",
      "Epoch 2600\n",
      "   training loss 227107.9375, (227107.08, 30776.828, 8616.108, 0.00011019723)\n",
      "   validation loss 559603.0625, (559602.0, 254071.7, 10466.12, 0.00011019723)\n",
      "decoder loss ratio: 0.871463, decoder SINDy loss  ratio: 1.000000\n",
      "Epoch 2700\n",
      "   training loss 205173.046875, (205172.19, 12739.404, 8616.108, 0.000114342525)\n",
      "   validation loss 528277.5, (528276.44, 4685.3423, 10466.12, 0.000114342525)\n",
      "decoder loss ratio: 0.822680, decoder SINDy loss  ratio: 1.000000\n",
      "Epoch 2800\n",
      "   training loss 234434.09375, (234433.23, 13848.454, 8616.108, 9.750334e-05)\n",
      "   validation loss 563343.625, (563342.56, 41357.855, 10466.12, 9.750334e-05)\n",
      "decoder loss ratio: 0.877288, decoder SINDy loss  ratio: 1.000000\n",
      "Epoch 2900\n",
      "   training loss 196346.640625, (196345.78, 57.99468, 8616.108, 0.00011267259)\n",
      "   validation loss 529174.3125, (529173.25, 266.6515, 10466.12, 0.00011267259)\n",
      "decoder loss ratio: 0.824077, decoder SINDy loss  ratio: 1.000000\n",
      "Epoch 3000\n",
      "   training loss 224646.296875, (224645.44, 53984.527, 8616.108, 0.00010293501)\n",
      "   validation loss 521139.3125, (521138.28, 38963.383, 10466.12, 0.00010293501)\n",
      "decoder loss ratio: 0.811564, decoder SINDy loss  ratio: 1.000000\n",
      "THRESHOLDING: 0 active coefficients\n",
      "Epoch 3100\n",
      "   training loss 232674.40625, (232673.55, 7273.3345, 8616.108, 0.0001001416)\n",
      "   validation loss 580162.0625, (580161.0, 11537.231, 10466.12, 0.0001001416)\n",
      "decoder loss ratio: 0.903479, decoder SINDy loss  ratio: 1.000000\n",
      "Epoch 3200\n",
      "   training loss 192428.5, (192427.64, 53428.684, 8616.108, 0.00011398373)\n",
      "   validation loss 540318.0625, (540317.0, 52897.87, 10466.12, 0.00011398373)\n",
      "decoder loss ratio: 0.841431, decoder SINDy loss  ratio: 1.000000\n",
      "Epoch 3300\n",
      "   training loss 191780.953125, (191780.1, 1261.823, 8616.108, 0.000113898284)\n",
      "   validation loss 496141.40625, (496140.38, 43864.05, 10466.12, 0.000113898284)\n",
      "decoder loss ratio: 0.772635, decoder SINDy loss  ratio: 1.000000\n"
     ]
    },
    {
     "ename": "KeyboardInterrupt",
     "evalue": "",
     "output_type": "error",
     "traceback": [
      "\u001b[0;31m---------------------------------------------------------------------------\u001b[0m",
      "\u001b[0;31mKeyboardInterrupt\u001b[0m                         Traceback (most recent call last)",
      "Cell \u001b[0;32mIn[4], line 12\u001b[0m\n\u001b[1;32m      8\u001b[0m     params[\u001b[38;5;124m'\u001b[39m\u001b[38;5;124msave_name\u001b[39m\u001b[38;5;124m'\u001b[39m] \u001b[38;5;241m=\u001b[39m \u001b[38;5;124m'\u001b[39m\u001b[38;5;124mlorenz_\u001b[39m\u001b[38;5;124m'\u001b[39m \u001b[38;5;241m+\u001b[39m datetime\u001b[38;5;241m.\u001b[39mdatetime\u001b[38;5;241m.\u001b[39mnow()\u001b[38;5;241m.\u001b[39mstrftime(\u001b[38;5;124m\"\u001b[39m\u001b[38;5;124m%\u001b[39m\u001b[38;5;124mY_\u001b[39m\u001b[38;5;124m%\u001b[39m\u001b[38;5;124mm_\u001b[39m\u001b[38;5;132;01m%d\u001b[39;00m\u001b[38;5;124m_\u001b[39m\u001b[38;5;124m%\u001b[39m\u001b[38;5;124mH_\u001b[39m\u001b[38;5;124m%\u001b[39m\u001b[38;5;124mM_\u001b[39m\u001b[38;5;124m%\u001b[39m\u001b[38;5;124mS_\u001b[39m\u001b[38;5;132;01m%f\u001b[39;00m\u001b[38;5;124m\"\u001b[39m)\n\u001b[1;32m     10\u001b[0m     tf\u001b[38;5;241m.\u001b[39mcompat\u001b[38;5;241m.\u001b[39mv1\u001b[38;5;241m.\u001b[39mreset_default_graph()\n\u001b[0;32m---> 12\u001b[0m     results_dict \u001b[38;5;241m=\u001b[39m \u001b[43mtrain_network\u001b[49m\u001b[43m(\u001b[49m\u001b[43mtraining_data\u001b[49m\u001b[43m,\u001b[49m\u001b[43m \u001b[49m\u001b[43mvalidation_data\u001b[49m\u001b[43m,\u001b[49m\u001b[43m \u001b[49m\u001b[43mparams\u001b[49m\u001b[43m)\u001b[49m\n\u001b[1;32m     13\u001b[0m     df \u001b[38;5;241m=\u001b[39m df\u001b[38;5;241m.\u001b[39mappend({\u001b[38;5;241m*\u001b[39m\u001b[38;5;241m*\u001b[39mresults_dict, \u001b[38;5;241m*\u001b[39m\u001b[38;5;241m*\u001b[39mparams}, ignore_index\u001b[38;5;241m=\u001b[39m\u001b[38;5;28;01mTrue\u001b[39;00m)\n\u001b[1;32m     15\u001b[0m df\u001b[38;5;241m.\u001b[39mto_pickle(\u001b[38;5;124m'\u001b[39m\u001b[38;5;124mexperiment_results_\u001b[39m\u001b[38;5;124m'\u001b[39m \u001b[38;5;241m+\u001b[39m datetime\u001b[38;5;241m.\u001b[39mdatetime\u001b[38;5;241m.\u001b[39mnow()\u001b[38;5;241m.\u001b[39mstrftime(\u001b[38;5;124m\"\u001b[39m\u001b[38;5;124m%\u001b[39m\u001b[38;5;124mY\u001b[39m\u001b[38;5;124m%\u001b[39m\u001b[38;5;124mm\u001b[39m\u001b[38;5;132;01m%d\u001b[39;00m\u001b[38;5;124m%\u001b[39m\u001b[38;5;124mH\u001b[39m\u001b[38;5;124m%\u001b[39m\u001b[38;5;124mM\u001b[39m\u001b[38;5;124m\"\u001b[39m) \u001b[38;5;241m+\u001b[39m \u001b[38;5;124m'\u001b[39m\u001b[38;5;124m.pkl\u001b[39m\u001b[38;5;124m'\u001b[39m)\n",
      "File \u001b[0;32m~/Documents/github/SindyAutoencoders/examples/duffing/../../src/training.py:34\u001b[0m, in \u001b[0;36mtrain_network\u001b[0;34m(training_data, val_data, params)\u001b[0m\n\u001b[1;32m     32\u001b[0m     batch_idxs \u001b[38;5;241m=\u001b[39m np\u001b[38;5;241m.\u001b[39marange(j\u001b[38;5;241m*\u001b[39mparams[\u001b[38;5;124m'\u001b[39m\u001b[38;5;124mbatch_size\u001b[39m\u001b[38;5;124m'\u001b[39m], (j\u001b[38;5;241m+\u001b[39m\u001b[38;5;241m1\u001b[39m)\u001b[38;5;241m*\u001b[39mparams[\u001b[38;5;124m'\u001b[39m\u001b[38;5;124mbatch_size\u001b[39m\u001b[38;5;124m'\u001b[39m])\n\u001b[1;32m     33\u001b[0m     train_dict \u001b[38;5;241m=\u001b[39m create_feed_dictionary(training_data, params, idxs\u001b[38;5;241m=\u001b[39mbatch_idxs)\n\u001b[0;32m---> 34\u001b[0m     \u001b[43msess\u001b[49m\u001b[38;5;241;43m.\u001b[39;49m\u001b[43mrun\u001b[49m\u001b[43m(\u001b[49m\u001b[43mtrain_op\u001b[49m\u001b[43m,\u001b[49m\u001b[43m \u001b[49m\u001b[43mfeed_dict\u001b[49m\u001b[38;5;241;43m=\u001b[39;49m\u001b[43mtrain_dict\u001b[49m\u001b[43m)\u001b[49m\n\u001b[1;32m     36\u001b[0m \u001b[38;5;28;01mif\u001b[39;00m params[\u001b[38;5;124m'\u001b[39m\u001b[38;5;124mprint_progress\u001b[39m\u001b[38;5;124m'\u001b[39m] \u001b[38;5;129;01mand\u001b[39;00m (i \u001b[38;5;241m%\u001b[39m params[\u001b[38;5;124m'\u001b[39m\u001b[38;5;124mprint_frequency\u001b[39m\u001b[38;5;124m'\u001b[39m] \u001b[38;5;241m==\u001b[39m \u001b[38;5;241m0\u001b[39m):\n\u001b[1;32m     37\u001b[0m     validation_losses\u001b[38;5;241m.\u001b[39mappend(print_progress(sess, i, loss, losses, train_dict, validation_dict, x_norm, sindy_predict_norm_x))\n",
      "File \u001b[0;32m~/Documents/github/SindyAutoencoders/.venv/lib/python3.12/site-packages/tensorflow/python/client/session.py:972\u001b[0m, in \u001b[0;36mBaseSession.run\u001b[0;34m(self, fetches, feed_dict, options, run_metadata)\u001b[0m\n\u001b[1;32m    969\u001b[0m run_metadata_ptr \u001b[38;5;241m=\u001b[39m tf_session\u001b[38;5;241m.\u001b[39mTF_NewBuffer() \u001b[38;5;28;01mif\u001b[39;00m run_metadata \u001b[38;5;28;01melse\u001b[39;00m \u001b[38;5;28;01mNone\u001b[39;00m\n\u001b[1;32m    971\u001b[0m \u001b[38;5;28;01mtry\u001b[39;00m:\n\u001b[0;32m--> 972\u001b[0m   result \u001b[38;5;241m=\u001b[39m \u001b[38;5;28;43mself\u001b[39;49m\u001b[38;5;241;43m.\u001b[39;49m\u001b[43m_run\u001b[49m\u001b[43m(\u001b[49m\u001b[38;5;28;43;01mNone\u001b[39;49;00m\u001b[43m,\u001b[49m\u001b[43m \u001b[49m\u001b[43mfetches\u001b[49m\u001b[43m,\u001b[49m\u001b[43m \u001b[49m\u001b[43mfeed_dict\u001b[49m\u001b[43m,\u001b[49m\u001b[43m \u001b[49m\u001b[43moptions_ptr\u001b[49m\u001b[43m,\u001b[49m\n\u001b[1;32m    973\u001b[0m \u001b[43m                     \u001b[49m\u001b[43mrun_metadata_ptr\u001b[49m\u001b[43m)\u001b[49m\n\u001b[1;32m    974\u001b[0m   \u001b[38;5;28;01mif\u001b[39;00m run_metadata:\n\u001b[1;32m    975\u001b[0m     proto_data \u001b[38;5;241m=\u001b[39m tf_session\u001b[38;5;241m.\u001b[39mTF_GetBuffer(run_metadata_ptr)\n",
      "File \u001b[0;32m~/Documents/github/SindyAutoencoders/.venv/lib/python3.12/site-packages/tensorflow/python/client/session.py:1215\u001b[0m, in \u001b[0;36mBaseSession._run\u001b[0;34m(self, handle, fetches, feed_dict, options, run_metadata)\u001b[0m\n\u001b[1;32m   1212\u001b[0m \u001b[38;5;66;03m# We only want to really perform the run if fetches or targets are provided,\u001b[39;00m\n\u001b[1;32m   1213\u001b[0m \u001b[38;5;66;03m# or if the call is a partial run that specifies feeds.\u001b[39;00m\n\u001b[1;32m   1214\u001b[0m \u001b[38;5;28;01mif\u001b[39;00m final_fetches \u001b[38;5;129;01mor\u001b[39;00m final_targets \u001b[38;5;129;01mor\u001b[39;00m (handle \u001b[38;5;129;01mand\u001b[39;00m feed_dict_tensor):\n\u001b[0;32m-> 1215\u001b[0m   results \u001b[38;5;241m=\u001b[39m \u001b[38;5;28;43mself\u001b[39;49m\u001b[38;5;241;43m.\u001b[39;49m\u001b[43m_do_run\u001b[49m\u001b[43m(\u001b[49m\u001b[43mhandle\u001b[49m\u001b[43m,\u001b[49m\u001b[43m \u001b[49m\u001b[43mfinal_targets\u001b[49m\u001b[43m,\u001b[49m\u001b[43m \u001b[49m\u001b[43mfinal_fetches\u001b[49m\u001b[43m,\u001b[49m\n\u001b[1;32m   1216\u001b[0m \u001b[43m                         \u001b[49m\u001b[43mfeed_dict_tensor\u001b[49m\u001b[43m,\u001b[49m\u001b[43m \u001b[49m\u001b[43moptions\u001b[49m\u001b[43m,\u001b[49m\u001b[43m \u001b[49m\u001b[43mrun_metadata\u001b[49m\u001b[43m)\u001b[49m\n\u001b[1;32m   1217\u001b[0m \u001b[38;5;28;01melse\u001b[39;00m:\n\u001b[1;32m   1218\u001b[0m   results \u001b[38;5;241m=\u001b[39m []\n",
      "File \u001b[0;32m~/Documents/github/SindyAutoencoders/.venv/lib/python3.12/site-packages/tensorflow/python/client/session.py:1395\u001b[0m, in \u001b[0;36mBaseSession._do_run\u001b[0;34m(self, handle, target_list, fetch_list, feed_dict, options, run_metadata)\u001b[0m\n\u001b[1;32m   1392\u001b[0m   \u001b[38;5;28;01mreturn\u001b[39;00m \u001b[38;5;28mself\u001b[39m\u001b[38;5;241m.\u001b[39m_call_tf_sessionprun(handle, feed_dict, fetch_list)\n\u001b[1;32m   1394\u001b[0m \u001b[38;5;28;01mif\u001b[39;00m handle \u001b[38;5;129;01mis\u001b[39;00m \u001b[38;5;28;01mNone\u001b[39;00m:\n\u001b[0;32m-> 1395\u001b[0m   \u001b[38;5;28;01mreturn\u001b[39;00m \u001b[38;5;28;43mself\u001b[39;49m\u001b[38;5;241;43m.\u001b[39;49m\u001b[43m_do_call\u001b[49m\u001b[43m(\u001b[49m\u001b[43m_run_fn\u001b[49m\u001b[43m,\u001b[49m\u001b[43m \u001b[49m\u001b[43mfeeds\u001b[49m\u001b[43m,\u001b[49m\u001b[43m \u001b[49m\u001b[43mfetches\u001b[49m\u001b[43m,\u001b[49m\u001b[43m \u001b[49m\u001b[43mtargets\u001b[49m\u001b[43m,\u001b[49m\u001b[43m \u001b[49m\u001b[43moptions\u001b[49m\u001b[43m,\u001b[49m\n\u001b[1;32m   1396\u001b[0m \u001b[43m                       \u001b[49m\u001b[43mrun_metadata\u001b[49m\u001b[43m)\u001b[49m\n\u001b[1;32m   1397\u001b[0m \u001b[38;5;28;01melse\u001b[39;00m:\n\u001b[1;32m   1398\u001b[0m   \u001b[38;5;28;01mreturn\u001b[39;00m \u001b[38;5;28mself\u001b[39m\u001b[38;5;241m.\u001b[39m_do_call(_prun_fn, handle, feeds, fetches)\n",
      "File \u001b[0;32m~/Documents/github/SindyAutoencoders/.venv/lib/python3.12/site-packages/tensorflow/python/client/session.py:1402\u001b[0m, in \u001b[0;36mBaseSession._do_call\u001b[0;34m(self, fn, *args)\u001b[0m\n\u001b[1;32m   1400\u001b[0m \u001b[38;5;28;01mdef\u001b[39;00m \u001b[38;5;21m_do_call\u001b[39m(\u001b[38;5;28mself\u001b[39m, fn, \u001b[38;5;241m*\u001b[39margs):\n\u001b[1;32m   1401\u001b[0m   \u001b[38;5;28;01mtry\u001b[39;00m:\n\u001b[0;32m-> 1402\u001b[0m     \u001b[38;5;28;01mreturn\u001b[39;00m \u001b[43mfn\u001b[49m\u001b[43m(\u001b[49m\u001b[38;5;241;43m*\u001b[39;49m\u001b[43margs\u001b[49m\u001b[43m)\u001b[49m\n\u001b[1;32m   1403\u001b[0m   \u001b[38;5;28;01mexcept\u001b[39;00m errors\u001b[38;5;241m.\u001b[39mOpError \u001b[38;5;28;01mas\u001b[39;00m e:\n\u001b[1;32m   1404\u001b[0m     message \u001b[38;5;241m=\u001b[39m compat\u001b[38;5;241m.\u001b[39mas_text(e\u001b[38;5;241m.\u001b[39mmessage)\n",
      "File \u001b[0;32m~/Documents/github/SindyAutoencoders/.venv/lib/python3.12/site-packages/tensorflow/python/client/session.py:1385\u001b[0m, in \u001b[0;36mBaseSession._do_run.<locals>._run_fn\u001b[0;34m(feed_dict, fetch_list, target_list, options, run_metadata)\u001b[0m\n\u001b[1;32m   1382\u001b[0m \u001b[38;5;28;01mdef\u001b[39;00m \u001b[38;5;21m_run_fn\u001b[39m(feed_dict, fetch_list, target_list, options, run_metadata):\n\u001b[1;32m   1383\u001b[0m   \u001b[38;5;66;03m# Ensure any changes to the graph are reflected in the runtime.\u001b[39;00m\n\u001b[1;32m   1384\u001b[0m   \u001b[38;5;28mself\u001b[39m\u001b[38;5;241m.\u001b[39m_extend_graph()\n\u001b[0;32m-> 1385\u001b[0m   \u001b[38;5;28;01mreturn\u001b[39;00m \u001b[38;5;28;43mself\u001b[39;49m\u001b[38;5;241;43m.\u001b[39;49m\u001b[43m_call_tf_sessionrun\u001b[49m\u001b[43m(\u001b[49m\u001b[43moptions\u001b[49m\u001b[43m,\u001b[49m\u001b[43m \u001b[49m\u001b[43mfeed_dict\u001b[49m\u001b[43m,\u001b[49m\u001b[43m \u001b[49m\u001b[43mfetch_list\u001b[49m\u001b[43m,\u001b[49m\n\u001b[1;32m   1386\u001b[0m \u001b[43m                                  \u001b[49m\u001b[43mtarget_list\u001b[49m\u001b[43m,\u001b[49m\u001b[43m \u001b[49m\u001b[43mrun_metadata\u001b[49m\u001b[43m)\u001b[49m\n",
      "File \u001b[0;32m~/Documents/github/SindyAutoencoders/.venv/lib/python3.12/site-packages/tensorflow/python/client/session.py:1478\u001b[0m, in \u001b[0;36mBaseSession._call_tf_sessionrun\u001b[0;34m(self, options, feed_dict, fetch_list, target_list, run_metadata)\u001b[0m\n\u001b[1;32m   1476\u001b[0m \u001b[38;5;28;01mdef\u001b[39;00m \u001b[38;5;21m_call_tf_sessionrun\u001b[39m(\u001b[38;5;28mself\u001b[39m, options, feed_dict, fetch_list, target_list,\n\u001b[1;32m   1477\u001b[0m                         run_metadata):\n\u001b[0;32m-> 1478\u001b[0m   \u001b[38;5;28;01mreturn\u001b[39;00m \u001b[43mtf_session\u001b[49m\u001b[38;5;241;43m.\u001b[39;49m\u001b[43mTF_SessionRun_wrapper\u001b[49m\u001b[43m(\u001b[49m\u001b[38;5;28;43mself\u001b[39;49m\u001b[38;5;241;43m.\u001b[39;49m\u001b[43m_session\u001b[49m\u001b[43m,\u001b[49m\u001b[43m \u001b[49m\u001b[43moptions\u001b[49m\u001b[43m,\u001b[49m\u001b[43m \u001b[49m\u001b[43mfeed_dict\u001b[49m\u001b[43m,\u001b[49m\n\u001b[1;32m   1479\u001b[0m \u001b[43m                                          \u001b[49m\u001b[43mfetch_list\u001b[49m\u001b[43m,\u001b[49m\u001b[43m \u001b[49m\u001b[43mtarget_list\u001b[49m\u001b[43m,\u001b[49m\n\u001b[1;32m   1480\u001b[0m \u001b[43m                                          \u001b[49m\u001b[43mrun_metadata\u001b[49m\u001b[43m)\u001b[49m\n",
      "\u001b[0;31mKeyboardInterrupt\u001b[0m: "
     ]
    }
   ],
   "source": [
    "num_experiments = 1\n",
    "df = pd.DataFrame()\n",
    "for i in range(num_experiments):\n",
    "    print('EXPERIMENT %d' % i)\n",
    "\n",
    "    params['coefficient_mask'] = np.ones((params['library_dim'], params['latent_dim']))\n",
    "\n",
    "    params['save_name'] = 'lorenz_' + datetime.datetime.now().strftime(\"%Y_%m_%d_%H_%M_%S_%f\")\n",
    "\n",
    "    tf.compat.v1.reset_default_graph()\n",
    "\n",
    "    results_dict = train_network(training_data, validation_data, params)\n",
    "    df = df.append({**results_dict, **params}, ignore_index=True)\n",
    "\n",
    "df.to_pickle('experiment_results_' + datetime.datetime.now().strftime(\"%Y%m%d%H%M\") + '.pkl')"
   ]
  }
 ],
 "metadata": {
  "kernelspec": {
   "display_name": "Python 3",
   "language": "python",
   "name": "python3"
  },
  "language_info": {
   "codemirror_mode": {
    "name": "ipython",
    "version": 3
   },
   "file_extension": ".py",
   "mimetype": "text/x-python",
   "name": "python",
   "nbconvert_exporter": "python",
   "pygments_lexer": "ipython3",
   "version": "3.12.3"
  },
  "toc": {
   "base_numbering": 1,
   "nav_menu": {},
   "number_sections": true,
   "sideBar": true,
   "skip_h1_title": false,
   "title_cell": "Table of Contents",
   "title_sidebar": "Contents",
   "toc_cell": false,
   "toc_position": {},
   "toc_section_display": true,
   "toc_window_display": false
  },
  "varInspector": {
   "cols": {
    "lenName": 16,
    "lenType": 16,
    "lenVar": 40
   },
   "kernels_config": {
    "python": {
     "delete_cmd_postfix": "",
     "delete_cmd_prefix": "del ",
     "library": "var_list.py",
     "varRefreshCmd": "print(var_dic_list())"
    },
    "r": {
     "delete_cmd_postfix": ") ",
     "delete_cmd_prefix": "rm(",
     "library": "var_list.r",
     "varRefreshCmd": "cat(var_dic_list()) "
    }
   },
   "types_to_exclude": [
    "module",
    "function",
    "builtin_function_or_method",
    "instance",
    "_Feature"
   ],
   "window_display": false
  }
 },
 "nbformat": 4,
 "nbformat_minor": 2
}
