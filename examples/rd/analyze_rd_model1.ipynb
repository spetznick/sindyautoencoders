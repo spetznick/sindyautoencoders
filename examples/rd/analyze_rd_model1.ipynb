{
    "cells": [
        {
            "cell_type": "code",
            "execution_count": 1,
            "metadata": {},
            "outputs": [
                {
                    "name": "stderr",
                    "output_type": "stream",
                    "text": [
                        "//anaconda/envs/py3/lib/python3.6/site-packages/h5py/__init__.py:34: FutureWarning: Conversion of the second argument of issubdtype from `float` to `np.floating` is deprecated. In future, it will be treated as `np.float64 == np.dtype(float).type`.\n",
                        "  from ._conv import register_converters as _register_converters\n"
                    ]
                }
            ],
            "source": [
                "import sys\n",
                "sys.path.append(\"../../src\")\n",
                "import os\n",
                "import numpy as np\n",
                "import pickle\n",
                "import scipy.io as sio\n",
                "from example_reactiondiffusion import get_rd_data\n",
                "from autoencoder import full_network\n",
                "from training import create_feed_dictionary\n",
                "from sindy_utils import sindy_simulate\n",
                "import tensorflow as tf\n",
                "import matplotlib.pyplot as plt\n",
                "from mpl_toolkits.mplot3d import Axes3D\n",
                "%matplotlib inline"
            ]
        },
        {
            "cell_type": "code",
            "execution_count": 2,
            "metadata": {
                "collapsed": true
            },
            "outputs": [],
            "source": [
                "data_path = os.getcwd() + '/'\n",
                "save_name = 'model1'\n",
                "params = pickle.load(open(data_path + save_name + '_params.pkl', 'rb'))\n",
                "params['save_name'] = data_path + save_name\n",
                "\n",
                "autoencoder_network = full_network(params)\n",
                "learning_rate = tf.compat.v1.placeholder(tf.float32, name='learning_rate')\n",
                "saver = tf.train.Saver(var_list=tf.get_collection(tf.GraphKeys.GLOBAL_VARIABLES))\n",
                "\n",
                "tensorflow_run_tuple = ()\n",
                "for key in autoencoder_network.keys():\n",
                "    tensorflow_run_tuple += (autoencoder_network[key],)"
            ]
        },
        {
            "cell_type": "code",
            "execution_count": 4,
            "metadata": {
                "collapsed": true
            },
            "outputs": [],
            "source": [
                "_,_,test_data = get_rd_data()"
            ]
        },
        {
            "cell_type": "markdown",
            "metadata": {},
            "source": [
                "## Single trajectory plots"
            ]
        },
        {
            "cell_type": "code",
            "execution_count": 5,
            "metadata": {},
            "outputs": [
                {
                    "name": "stdout",
                    "output_type": "stream",
                    "text": [
                        "INFO:tensorflow:Restoring parameters from ./models_rd/model1\n"
                    ]
                }
            ],
            "source": [
                "with tf.Session() as sess:\n",
                "    sess.run(tf.global_variables_initializer())\n",
                "    saver.restore(sess, data_path + save_name)\n",
                "    test_dictionary = create_feed_dictionary(test_data, params)\n",
                "    tf_results = sess.run(tensorflow_run_tuple, feed_dict=test_dictionary)\n",
                "\n",
                "test_set_results = {}\n",
                "for i,key in enumerate(autoencoder_network.keys()):\n",
                "    test_set_results[key] = tf_results[i]"
            ]
        },
        {
            "cell_type": "code",
            "execution_count": 10,
            "metadata": {
                "collapsed": true
            },
            "outputs": [],
            "source": [
                "z_sim = sindy_simulate(test_set_results['z'][0], test_data['t'][:,0],\n",
                "                       params['coefficient_mask']*test_set_results['sindy_coefficients'],\n",
                "                       params['poly_order'], params['include_sine'])"
            ]
        },
        {
            "cell_type": "code",
            "execution_count": 11,
            "metadata": {},
            "outputs": [
                {
                    "data": {
                        "text/plain": [
                            "(-49.95, 1048.95, -1.0724501299037248, 1.0718993575024516)"
                        ]
                    },
                    "execution_count": 11,
                    "metadata": {},
                    "output_type": "execute_result"
                },
                {
                    "data": {
                        "image/png": "[encoded data removed]",
                        "text/plain": [
                            "<matplotlib.figure.Figure at 0x12bd79710>"
                        ]
                    },
                    "metadata": {},
                    "output_type": "display_data"
                }
            ],
            "source": [
                "plt.figure(figsize=(3,2))\n",
                "plt.subplot(2,1,1)\n",
                "plt.plot(test_set_results['z'][:,0], 'k', color='#888888', linewidth=2)\n",
                "plt.plot(z_sim[:,0], '--', linewidth=2)\n",
                "plt.xticks([])\n",
                "plt.yticks([])\n",
                "plt.axis('off')\n",
                "\n",
                "plt.subplot(2,1,2)\n",
                "plt.plot(test_set_results['z'][:,1], color='#888888', linewidth=2)\n",
                "plt.plot(z_sim[:,1], '--', linewidth=2)\n",
                "plt.xticks([])\n",
                "plt.yticks([])\n",
                "plt.axis('off')"
            ]
        },
        {
            "cell_type": "code",
            "execution_count": 12,
            "metadata": {},
            "outputs": [
                {
                    "data": {
                        "text/plain": [
                            "([], <a list of 0 Text yticklabel objects>)"
                        ]
                    },
                    "execution_count": 12,
                    "metadata": {},
                    "output_type": "execute_result"
                },
                {
                    "data": {
                        "image/png": "[encoded data removed]",
                        "text/plain": [
                            "<matplotlib.figure.Figure at 0x1601d6cf8>"
                        ]
                    },
                    "metadata": {},
                    "output_type": "display_data"
                }
            ],
            "source": [
                "plt.figure(figsize=(3,3))\n",
                "plt.plot(z_sim[:,0], z_sim[:,1], linewidth=2)\n",
                "plt.axis('equal')\n",
                "plt.axis('off')\n",
                "plt.xticks([])\n",
                "plt.yticks([])"
            ]
        },
        {
            "cell_type": "code",
            "execution_count": 13,
            "metadata": {},
            "outputs": [
                {
                    "name": "stdout",
                    "output_type": "stream",
                    "text": [
                        "Decoder relative error: 0.015898\n",
                        "Decoder relative SINDy error: 0.015780\n",
                        "SINDy reltive error, z: 0.002132\n"
                    ]
                }
            ],
            "source": [
                "decoder_x_error = np.mean((test_data['x'] - test_set_results['x_decode'])**2)/np.mean(test_data['x']**2)\n",
                "decoder_dx_error = np.mean((test_data['dx'] - test_set_results['dx_decode'])**2)/np.mean(test_data['dx']**2)\n",
                "sindy_dz_error = np.mean((test_set_results['dz'] - test_set_results['dz_predict'])**2)/np.mean(test_set_results['dz']**2)\n",
                "\n",
                "print('Decoder relative error: %f' % decoder_x_error)\n",
                "print('Decoder relative SINDy error: %f' % decoder_dx_error)\n",
                "print('SINDy reltive error, z: %f' % sindy_dz_error)"
            ]
        }
    ],
    "metadata": {
        "kernelspec": {
            "display_name": "Python 3",
            "language": "python",
            "name": "python3"
        },
        "language_info": {
            "codemirror_mode": {
                "name": "ipython",
                "version": 3
            },
            "file_extension": ".py",
            "mimetype": "text/x-python",
            "name": "python",
            "nbconvert_exporter": "python",
            "pygments_lexer": "ipython3",
            "version": "3.6.1"
        },
        "toc": {
            "base_numbering": 1,
            "nav_menu": {},
            "number_sections": true,
            "sideBar": true,
            "skip_h1_title": false,
            "title_cell": "Table of Contents",
            "title_sidebar": "Contents",
            "toc_cell": false,
            "toc_position": {},
            "toc_section_display": true,
            "toc_window_display": false
        },
        "varInspector": {
            "cols": {
                "lenName": 16,
                "lenType": 16,
                "lenVar": 40
            },
            "kernels_config": {
                "python": {
                    "delete_cmd_postfix": "",
                    "delete_cmd_prefix": "del ",
                    "library": "var_list.py",
                    "varRefreshCmd": "print(var_dic_list())"
                },
                "r": {
                    "delete_cmd_postfix": ") ",
                    "delete_cmd_prefix": "rm(",
                    "library": "var_list.r",
                    "varRefreshCmd": "cat(var_dic_list()) "
                }
            },
            "types_to_exclude": [
                "module",
                "function",
                "builtin_function_or_method",
                "instance",
                "_Feature"
            ],
            "window_display": false
        }
    },
    "nbformat": 4,
    "nbformat_minor": 2
}